{
 "cells": [
  {
   "cell_type": "markdown",
   "id": "0883878b",
   "metadata": {},
   "source": [
    "* Material Source: https://machinelearningmastery.com/machine-learning-in-python-step-by-step/\n",
    "* Data: UCI Machine Learning repository"
   ]
  },
  {
   "cell_type": "markdown",
   "id": "b05f626f",
   "metadata": {},
   "source": [
    "### 0. Labraries"
   ]
  },
  {
   "cell_type": "code",
   "execution_count": 1,
   "id": "1a7393cc",
   "metadata": {},
   "outputs": [
    {
     "name": "stdout",
     "output_type": "stream",
     "text": [
      "Python: 3.8.8 (default, Apr 13 2021, 15:08:03) [MSC v.1916 64 bit (AMD64)]\n",
      "scipy: 1.6.2\n",
      "numpy: 1.20.1\n",
      "matplotlib: 3.3.4\n",
      "pandas: 1.2.4\n",
      "sklearn: 0.24.1\n"
     ]
    }
   ],
   "source": [
    "import sys\n",
    "print('Python: {}'.format(sys.version))\n",
    "\n",
    "import scipy\n",
    "print('scipy: {}'.format(scipy.__version__))\n",
    "\n",
    "import numpy\n",
    "print('numpy: {}'.format(numpy.__version__))\n",
    "\n",
    "import matplotlib\n",
    "print('matplotlib: {}'.format(matplotlib.__version__))\n",
    "\n",
    "import pandas\n",
    "print('pandas: {}'.format(pandas.__version__))\n",
    "\n",
    "import sklearn\n",
    "print('sklearn: {}'.format(sklearn.__version__))"
   ]
  },
  {
   "cell_type": "code",
   "execution_count": 16,
   "id": "b7ba25c5",
   "metadata": {},
   "outputs": [],
   "source": [
    "import pandas as pd\n",
    "import matplotlib.pyplot as plt\n",
    "from sklearn.model_selection import train_test_split\n",
    "from sklearn.model_selection import cross_val_score\n",
    "from sklearn.model_selection import StratifiedKFold\n",
    "from sklearn.metrics import classification_report\n",
    "from sklearn.metrics import confusion_matrix\n",
    "from sklearn.metrics import accuracy_score\n",
    "from sklearn.linear_model import LogisticRegression\n",
    "from sklearn.tree import DecisionTreeClassifier\n",
    "from sklearn.neighbors import KNeighborsClassifier\n",
    "from sklearn.discriminant_analysis import LinearDiscriminantAnalysis\n",
    "from sklearn.naive_bayes import GaussianNB\n",
    "from sklearn.svm import SVC"
   ]
  },
  {
   "cell_type": "markdown",
   "id": "3ba46c7d",
   "metadata": {},
   "source": [
    "### 1. Read Data"
   ]
  },
  {
   "cell_type": "code",
   "execution_count": 6,
   "id": "9c2e9955",
   "metadata": {},
   "outputs": [],
   "source": [
    "# Load dataset\n",
    "url = \"https://raw.githubusercontent.com/jbrownlee/Datasets/master/iris.csv\"\n",
    "names = ['sepal-length', 'sepal-width', 'petal-length', 'petal-width', 'class']\n",
    "dataset = pd.read_csv(url, names=names)"
   ]
  },
  {
   "cell_type": "markdown",
   "id": "bb52a4e9",
   "metadata": {},
   "source": [
    "### 2. Summarize the Data"
   ]
  },
  {
   "cell_type": "code",
   "execution_count": 7,
   "id": "81193e0e",
   "metadata": {},
   "outputs": [
    {
     "name": "stdout",
     "output_type": "stream",
     "text": [
      "(150, 5)\n"
     ]
    }
   ],
   "source": [
    "# shape\n",
    "print(dataset.shape)"
   ]
  },
  {
   "cell_type": "code",
   "execution_count": 8,
   "id": "693c9de0",
   "metadata": {},
   "outputs": [
    {
     "name": "stdout",
     "output_type": "stream",
     "text": [
      "    sepal-length  sepal-width  petal-length  petal-width        class\n",
      "0            5.1          3.5           1.4          0.2  Iris-setosa\n",
      "1            4.9          3.0           1.4          0.2  Iris-setosa\n",
      "2            4.7          3.2           1.3          0.2  Iris-setosa\n",
      "3            4.6          3.1           1.5          0.2  Iris-setosa\n",
      "4            5.0          3.6           1.4          0.2  Iris-setosa\n",
      "5            5.4          3.9           1.7          0.4  Iris-setosa\n",
      "6            4.6          3.4           1.4          0.3  Iris-setosa\n",
      "7            5.0          3.4           1.5          0.2  Iris-setosa\n",
      "8            4.4          2.9           1.4          0.2  Iris-setosa\n",
      "9            4.9          3.1           1.5          0.1  Iris-setosa\n",
      "10           5.4          3.7           1.5          0.2  Iris-setosa\n",
      "11           4.8          3.4           1.6          0.2  Iris-setosa\n",
      "12           4.8          3.0           1.4          0.1  Iris-setosa\n",
      "13           4.3          3.0           1.1          0.1  Iris-setosa\n",
      "14           5.8          4.0           1.2          0.2  Iris-setosa\n",
      "15           5.7          4.4           1.5          0.4  Iris-setosa\n",
      "16           5.4          3.9           1.3          0.4  Iris-setosa\n",
      "17           5.1          3.5           1.4          0.3  Iris-setosa\n",
      "18           5.7          3.8           1.7          0.3  Iris-setosa\n",
      "19           5.1          3.8           1.5          0.3  Iris-setosa\n"
     ]
    }
   ],
   "source": [
    "# head\n",
    "print(dataset.head(20))"
   ]
  },
  {
   "cell_type": "code",
   "execution_count": 9,
   "id": "0460bbad",
   "metadata": {
    "scrolled": true
   },
   "outputs": [
    {
     "name": "stdout",
     "output_type": "stream",
     "text": [
      "       sepal-length  sepal-width  petal-length  petal-width\n",
      "count    150.000000   150.000000    150.000000   150.000000\n",
      "mean       5.843333     3.054000      3.758667     1.198667\n",
      "std        0.828066     0.433594      1.764420     0.763161\n",
      "min        4.300000     2.000000      1.000000     0.100000\n",
      "25%        5.100000     2.800000      1.600000     0.300000\n",
      "50%        5.800000     3.000000      4.350000     1.300000\n",
      "75%        6.400000     3.300000      5.100000     1.800000\n",
      "max        7.900000     4.400000      6.900000     2.500000\n"
     ]
    }
   ],
   "source": [
    "# descriptions\n",
    "print(dataset.describe())\n",
    "\n",
    "#all of the numerical values have the same scale (centimeters) and similar ranges between 0 and 8 centimeters."
   ]
  },
  {
   "cell_type": "code",
   "execution_count": 10,
   "id": "f5f8286a",
   "metadata": {},
   "outputs": [
    {
     "name": "stdout",
     "output_type": "stream",
     "text": [
      "class\n",
      "Iris-setosa        50\n",
      "Iris-versicolor    50\n",
      "Iris-virginica     50\n",
      "dtype: int64\n"
     ]
    }
   ],
   "source": [
    "# class distribution (3 classes)\n",
    "print(dataset.groupby('class').size())\n",
    "\n",
    "#each class has the same number of instances (50 or 33% of the dataset)"
   ]
  },
  {
   "cell_type": "markdown",
   "id": "91b632bb",
   "metadata": {},
   "source": [
    "### 3. EDA"
   ]
  },
  {
   "cell_type": "markdown",
   "id": "f483b4ad",
   "metadata": {},
   "source": [
    "#### 3.1 Univariate Plots"
   ]
  },
  {
   "cell_type": "code",
   "execution_count": 11,
   "id": "23fd27cb",
   "metadata": {
    "scrolled": true
   },
   "outputs": [
    {
     "data": {
      "image/png": "[encoded data removed]",
      "text/plain": [
       "<Figure size 432x288 with 4 Axes>"
      ]
     },
     "metadata": {
      "needs_background": "light"
     },
     "output_type": "display_data"
    }
   ],
   "source": [
    "# box and whisker plots\n",
    "dataset.plot(kind='box', subplots=True, layout=(2,2), sharex=False, sharey=False)\n",
    "pyplot.show()\n",
    "\n",
    "#distribution of the input attributes"
   ]
  },
  {
   "cell_type": "code",
   "execution_count": 12,
   "id": "b6033a43",
   "metadata": {
    "scrolled": true
   },
   "outputs": [
    {
     "data": {
      "image/png": "[encoded data removed]",
      "text/plain": [
       "<Figure size 432x288 with 4 Axes>"
      ]
     },
     "metadata": {
      "needs_background": "light"
     },
     "output_type": "display_data"
    }
   ],
   "source": [
    "# histograms\n",
    "dataset.hist()\n",
    "pyplot.show()\n",
    "\n",
    "#sepal-length and sepal-width have near normal(Gaussian) distribution"
   ]
  },
  {
   "cell_type": "markdown",
   "id": "3b299f49",
   "metadata": {},
   "source": [
    "#### 3.2 Multivariate Plots"
   ]
  },
  {
   "cell_type": "code",
   "execution_count": 17,
   "id": "7c3da5a3",
   "metadata": {
    "scrolled": false
   },
   "outputs": [
    {
     "data": {
      "image/png": "[encoded data removed]",
      "text/plain": [
       "<Figure size 432x288 with 16 Axes>"
      ]
     },
     "metadata": {
      "needs_background": "light"
     },
     "output_type": "display_data"
    }
   ],
   "source": [
    "# scatter plot matrix\n",
    "from pandas.plotting import scatter_matrix\n",
    "color_map={\n",
    " 'Iris-setosa': 'r',\n",
    " 'Iris-versicolor': 'g',\n",
    " 'Iris-virginica': 'b'\n",
    "}\n",
    "\n",
    "dataset['color']=dataset['class'].map(color_map)\n",
    "\n",
    "scatter_matrix(dataset,color=dataset['color'])\n",
    "plt.show()"
   ]
  },
  {
   "cell_type": "markdown",
   "id": "f7e081e7",
   "metadata": {},
   "source": [
    "### 4. Model"
   ]
  },
  {
   "cell_type": "markdown",
   "id": "476ca4a1",
   "metadata": {},
   "source": [
    "#### 4.1 Data Spliting"
   ]
  },
  {
   "cell_type": "code",
   "execution_count": 21,
   "id": "107ab758",
   "metadata": {
    "scrolled": true
   },
   "outputs": [
    {
     "name": "stdout",
     "output_type": "stream",
     "text": [
      "[[5.1 3.5 1.4 0.2 'Iris-setosa' 'r']\n",
      " [4.9 3.0 1.4 0.2 'Iris-setosa' 'r']\n",
      " [4.7 3.2 1.3 0.2 'Iris-setosa' 'r']\n",
      " [4.6 3.1 1.5 0.2 'Iris-setosa' 'r']\n",
      " [5.0 3.6 1.4 0.2 'Iris-setosa' 'r']]\n"
     ]
    }
   ],
   "source": [
    "# Split-out validation dataset\n",
    "array = dataset.values\n",
    "print(array[0:5,:])\n",
    "\n",
    "X = array[:,0:4]\n",
    "y = array[:,4]\n",
    "X_train, X_validation, y_train, y_validation = train_test_split(X, y, test_size=0.20, random_state=1)"
   ]
  },
  {
   "cell_type": "code",
   "execution_count": null,
   "id": "25dabca7",
   "metadata": {},
   "outputs": [],
   "source": [
    "# random_state: We set the random seed via the random_state argument to a fixed number to \n",
    "# ensure that each algorithm is evaluated on the same splits of the training dataset."
   ]
  },
  {
   "cell_type": "markdown",
   "id": "469be54b",
   "metadata": {},
   "source": [
    "#### 4.2 Model Building"
   ]
  },
  {
   "cell_type": "markdown",
   "id": "320e8896",
   "metadata": {},
   "source": [
    "Let’s test 6 different algorithms:\n",
    "\n",
    "* Logistic Regression (LR)\n",
    "* Linear Discriminant Analysis (LDA)\n",
    "* K-Nearest Neighbors (KNN).\n",
    "* Classification and Regression Trees (CART).\n",
    "* Gaussian Naive Bayes (NB).\n",
    "* Support Vector Machines (SVM)."
   ]
  },
  {
   "cell_type": "code",
   "execution_count": 25,
   "id": "e69ffb50",
   "metadata": {},
   "outputs": [
    {
     "name": "stdout",
     "output_type": "stream",
     "text": [
      "LogisticRegression 0.9416666666666667 0.06508541396588878\n"
     ]
    }
   ],
   "source": [
    "# Logistic Regression (LR)\n",
    "\n",
    "model = LogisticRegression(solver='liblinear', multi_class='auto')\n",
    "kfold = StratifiedKFold(n_splits=10, random_state=1, shuffle=True)\n",
    "cv_results = cross_val_score(model, X_train, y_train, cv=kfold, scoring='accuracy')\n",
    "\n",
    "#liblinear: Library for Large Linear Classification\n",
    "#It applies automatic parameter selection (a.k.a L1 Regularization) and it's recommended when you have\n",
    "#high dimension dataset (recommended for solving large-scale classification problems)\n",
    "\n",
    "\n",
    "\n",
    "print('LogisticRegression', cv_results.mean(), cv_results.std())"
   ]
  },
  {
   "cell_type": "markdown",
   "id": "b0cd2099",
   "metadata": {},
   "source": [
    "* solver{‘newton-cg’, ‘lbfgs’, ‘liblinear’, ‘sag’, ‘saga’}, default=’lbfgs’\n",
    "Algorithm to use in the optimization problem. Default is ‘lbfgs’. To choose a solver, you might want to consider the following aspects:\n",
    "\n",
    "    * For small datasets, ‘liblinear’ is a good choice, whereas ‘sag’ and ‘saga’ are faster for large ones;\n",
    "    * For multiclass problems, only ‘newton-cg’, ‘sag’, ‘saga’ and ‘lbfgs’ handle multinomial loss;\n",
    "    * ‘liblinear’ is limited to one-versus-rest schemes\n",
    "   \n",
    "* multi_class{‘auto’, ‘ovr’, ‘multinomial’}, default=’auto’\n",
    "    * ‘ovr’, then a binary problem is fit for each label.\n",
    "    * ‘multinomial’ the loss minimised is the multinomial loss fit across the entire probability distribution, even when the data is binary. ‘multinomial’ is unavailable when solver=’liblinear’.\n",
    "    * ‘auto’ selects ‘ovr’ if the data is binary, or if solver=’liblinear’, and otherwise selects ‘multinomial’."
   ]
  },
  {
   "cell_type": "code",
   "execution_count": 27,
   "id": "c818cf2d",
   "metadata": {},
   "outputs": [
    {
     "name": "stdout",
     "output_type": "stream",
     "text": [
      "LinearDiscriminantAnalysis 0.975 0.03818813079129868\n"
     ]
    }
   ],
   "source": [
    "# Linear Discriminant Analysis(LDA)\n",
    "\n",
    "model = LinearDiscriminantAnalysis()\n",
    "kfold = StratifiedKFold(n_splits=10, random_state=1, shuffle=True)\n",
    "cv_results = cross_val_score(model, X_train, y_train, cv=kfold, scoring='accuracy')\n",
    "\n",
    "print('LinearDiscriminantAnalysis', cv_results.mean(), cv_results.std())"
   ]
  },
  {
   "cell_type": "code",
   "execution_count": 28,
   "id": "21581a5c",
   "metadata": {},
   "outputs": [
    {
     "name": "stdout",
     "output_type": "stream",
     "text": [
      "KNeighborsClassifier 0.9583333333333333 0.04166666666666669\n"
     ]
    }
   ],
   "source": [
    "# K Neighbors Classifier(KNN)\n",
    "\n",
    "model = KNeighborsClassifier()\n",
    "kfold = StratifiedKFold(n_splits=10, random_state=1, shuffle=True)\n",
    "cv_results = cross_val_score(model, X_train, y_train, cv=kfold, scoring='accuracy')\n",
    "\n",
    "print('KNeighborsClassifier', cv_results.mean(), cv_results.std())"
   ]
  },
  {
   "cell_type": "code",
   "execution_count": 29,
   "id": "8f32085b",
   "metadata": {},
   "outputs": [
    {
     "name": "stdout",
     "output_type": "stream",
     "text": [
      "DecisionTreeClassifier 0.9333333333333332 0.05\n"
     ]
    }
   ],
   "source": [
    "# Decision Tree Classifier(CART)\n",
    "\n",
    "model = DecisionTreeClassifier()\n",
    "kfold = StratifiedKFold(n_splits=10, random_state=1, shuffle=True)\n",
    "cv_results = cross_val_score(model, X_train, y_train, cv=kfold, scoring='accuracy')\n",
    "\n",
    "print('DecisionTreeClassifier', cv_results.mean(), cv_results.std())"
   ]
  },
  {
   "cell_type": "code",
   "execution_count": 31,
   "id": "c8e895c0",
   "metadata": {},
   "outputs": [
    {
     "name": "stdout",
     "output_type": "stream",
     "text": [
      "GaussianNB 0.95 0.05527707983925667\n"
     ]
    }
   ],
   "source": [
    "# GaussianN(NB)\n",
    "\n",
    "model = GaussianNB()\n",
    "kfold = StratifiedKFold(n_splits=10, random_state=1, shuffle=True)\n",
    "cv_results = cross_val_score(model, X_train, y_train, cv=kfold, scoring='accuracy')\n",
    "\n",
    "print('GaussianNB', cv_results.mean(), cv_results.std())"
   ]
  },
  {
   "cell_type": "code",
   "execution_count": 32,
   "id": "4d3d0bea",
   "metadata": {},
   "outputs": [
    {
     "name": "stdout",
     "output_type": "stream",
     "text": [
      "SVC 0.9833333333333332 0.03333333333333335\n"
     ]
    }
   ],
   "source": [
    "# SVM\n",
    "\n",
    "model = SVC(gamma='auto')\n",
    "kfold = StratifiedKFold(n_splits=10, random_state=1, shuffle=True)\n",
    "cv_results = cross_val_score(model, X_train, y_train, cv=kfold, scoring='accuracy')\n",
    "\n",
    "print('SVM', cv_results.mean(), cv_results.std())\n",
    "\n",
    "#kernel: linear, rbf"
   ]
  },
  {
   "cell_type": "code",
   "execution_count": 33,
   "id": "49aa31b0",
   "metadata": {
    "scrolled": true
   },
   "outputs": [
    {
     "name": "stdout",
     "output_type": "stream",
     "text": [
      "LR: 0.941667 (0.065085)\n",
      "LDA: 0.975000 (0.038188)\n",
      "KNN: 0.958333 (0.041667)\n",
      "CART: 0.941667 (0.053359)\n",
      "NB: 0.950000 (0.055277)\n",
      "SVM: 0.983333 (0.033333)\n"
     ]
    }
   ],
   "source": [
    "# Compare Algorithms with loop\n",
    "models = []\n",
    "models.append(('LR', LogisticRegression(solver='liblinear', multi_class='ovr')))\n",
    "models.append(('LDA', LinearDiscriminantAnalysis()))\n",
    "models.append(('KNN', KNeighborsClassifier()))\n",
    "models.append(('CART', DecisionTreeClassifier()))\n",
    "models.append(('NB', GaussianNB()))\n",
    "models.append(('SVM', SVC(gamma='auto')))\n",
    "# evaluate each model in turn\n",
    "results = []\n",
    "names = []\n",
    "for name, model in models:\n",
    "    kfold = StratifiedKFold(n_splits=10, random_state=1, shuffle=True)\n",
    "    cv_results = cross_val_score(model, X_train, Y_train, cv=kfold, scoring='accuracy')\n",
    "    results.append(cv_results)\n",
    "    names.append(name)\n",
    "    print('%s: %f (%f)' % (name, cv_results.mean(), cv_results.std()))"
   ]
  },
  {
   "cell_type": "code",
   "execution_count": 34,
   "id": "1cacff96",
   "metadata": {
    "scrolled": true
   },
   "outputs": [
    {
     "data": {
      "image/png": "[encoded data removed]",
      "text/plain": [
       "<Figure size 432x288 with 1 Axes>"
      ]
     },
     "metadata": {
      "needs_background": "light"
     },
     "output_type": "display_data"
    }
   ],
   "source": [
    "# Compare Algorithms with visuals\n",
    "pyplot.boxplot(results, labels=names)\n",
    "pyplot.title('Algorithm Comparison')\n",
    "pyplot.show()"
   ]
  },
  {
   "cell_type": "markdown",
   "id": "3bfa8bb7",
   "metadata": {},
   "source": [
    "### 5. Make Predictions"
   ]
  },
  {
   "cell_type": "code",
   "execution_count": 37,
   "id": "7217da9c",
   "metadata": {},
   "outputs": [],
   "source": [
    "# Make predictions on validation dataset\n",
    "model = SVC(gamma='auto')\n",
    "model.fit(X_train, y_train)\n",
    "predictions = model.predict(X_validation)"
   ]
  },
  {
   "cell_type": "code",
   "execution_count": 39,
   "id": "868b355c",
   "metadata": {},
   "outputs": [
    {
     "name": "stdout",
     "output_type": "stream",
     "text": [
      "0.9666666666666667\n"
     ]
    }
   ],
   "source": [
    "# Save model and load model\n",
    "import pickle\n",
    "\n",
    "# save the model to disk\n",
    "filename = 'SVM_model.sav'\n",
    "pickle.dump(model, open(filename, 'wb'))\n",
    "\n",
    "# load the model from disk\n",
    "loaded_model = pickle.load(open(filename, 'rb'))\n",
    "result = loaded_model.score(X_validation, y_validation)\n",
    "print(result)"
   ]
  },
  {
   "cell_type": "code",
   "execution_count": 42,
   "id": "2f54c5e7",
   "metadata": {},
   "outputs": [
    {
     "name": "stdout",
     "output_type": "stream",
     "text": [
      "0.9666666666666667\n",
      "0.9666666666666667\n",
      "[[11  0  0]\n",
      " [ 0 12  1]\n",
      " [ 0  0  6]]\n",
      "                 precision    recall  f1-score   support\n",
      "\n",
      "    Iris-setosa       1.00      1.00      1.00        11\n",
      "Iris-versicolor       1.00      0.92      0.96        13\n",
      " Iris-virginica       0.86      1.00      0.92         6\n",
      "\n",
      "       accuracy                           0.97        30\n",
      "      macro avg       0.95      0.97      0.96        30\n",
      "   weighted avg       0.97      0.97      0.97        30\n",
      "\n"
     ]
    }
   ],
   "source": [
    "# Evaluate predictions\n",
    "print(model.score(X_validation, y_validation))\n",
    "print(accuracy_score(y_validation, predictions))\n",
    "print(confusion_matrix(y_validation, predictions))\n",
    "print(classification_report(y_validation, predictions))"
   ]
  }
 ],
 "metadata": {
  "kernelspec": {
   "display_name": "Python 3",
   "language": "python",
   "name": "python3"
  },
  "language_info": {
   "codemirror_mode": {
    "name": "ipython",
    "version": 3
   },
   "file_extension": ".py",
   "mimetype": "text/x-python",
   "name": "python",
   "nbconvert_exporter": "python",
   "pygments_lexer": "ipython3",
   "version": "3.8.8"
  }
 },
 "nbformat": 4,
 "nbformat_minor": 5
}
